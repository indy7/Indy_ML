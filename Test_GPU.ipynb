{
 "metadata": {
  "language_info": {
   "codemirror_mode": {
    "name": "ipython",
    "version": 3
   },
   "file_extension": ".py",
   "mimetype": "text/x-python",
   "name": "python",
   "nbconvert_exporter": "python",
   "pygments_lexer": "ipython3",
   "version": "3.7.9-final"
  },
  "orig_nbformat": 2,
  "kernelspec": {
   "name": "Python 3.7.9 64-bit ('ztdlbook_gpu': conda)",
   "display_name": "Python 3.7.9 64-bit ('ztdlbook_gpu': conda)",
   "metadata": {
    "interpreter": {
     "hash": "1625f98a1367131fd026ad0f434dc9b333694f91a5083e3f93a419eec5879448"
    }
   }
  }
 },
 "nbformat": 4,
 "nbformat_minor": 2,
 "cells": [
  {
   "cell_type": "code",
   "execution_count": 5,
   "metadata": {
    "tags": []
   },
   "outputs": [
    {
     "output_type": "stream",
     "name": "stdout",
     "text": "True\n[PhysicalDevice(name='/physical_device:GPU:0', device_type='GPU')]\n2.2.1\n"
    }
   ],
   "source": [
    "# Check installed CUDA, GPU, and Tensorflow \n",
    "import tensorflow as tf \n",
    "print(tf.test.is_built_with_cuda()) \n",
    "print(tf.config.list_physical_devices('GPU'))\n",
    "print(tf.__version__)"
   ]
  },
  {
   "cell_type": "code",
   "execution_count": 6,
   "metadata": {},
   "outputs": [],
   "source": [
    "# Test Convolutional with GPU\n",
    "with open('common.py') as fin:\n",
    "  msg = fin.read()\n",
    "  exec(msg)"
   ]
  },
  {
   "cell_type": "code",
   "execution_count": 7,
   "metadata": {},
   "outputs": [],
   "source": [
    "with open('matplotlibconf.py') as fin:\n",
    "  exec(fin.read())"
   ]
  },
  {
   "cell_type": "code",
   "execution_count": 8,
   "metadata": {},
   "outputs": [],
   "source": [
    "import tensorflow as tf"
   ]
  },
  {
   "cell_type": "code",
   "execution_count": 9,
   "metadata": {},
   "outputs": [],
   "source": [
    "tf.compat.v1.disable_eager_execution()"
   ]
  },
  {
   "cell_type": "code",
   "execution_count": 10,
   "metadata": {},
   "outputs": [],
   "source": [
    "from tensorflow.keras.datasets import cifar10\n",
    "from tensorflow.keras.utils import to_categorical"
   ]
  },
  {
   "cell_type": "code",
   "execution_count": 11,
   "metadata": {},
   "outputs": [],
   "source": [
    "def cifar_train_data():\n",
    "  print(\"Loading CIFAR10 Data\")\n",
    "  (X_train, y_train), _ = cifar10.load_data()\n",
    "  X_train = X_train.astype('float32') / 255.0\n",
    "  y_train_cat = to_categorical(y_train, 10)\n",
    "  return X_train, y_train_cat"
   ]
  },
  {
   "cell_type": "code",
   "execution_count": 12,
   "metadata": {
    "tags": []
   },
   "outputs": [
    {
     "output_type": "stream",
     "name": "stdout",
     "text": "Loading CIFAR10 Data\n"
    }
   ],
   "source": [
    "X_conv, y_conv = cifar_train_data()"
   ]
  },
  {
   "cell_type": "code",
   "execution_count": 13,
   "metadata": {},
   "outputs": [],
   "source": [
    "from tensorflow.keras.models import Sequential\n",
    "from tensorflow.keras.layers import Flatten, Dense\n",
    "from tensorflow.keras.layers import Conv2D, MaxPooling2D\n",
    "from time import time"
   ]
  },
  {
   "cell_type": "code",
   "execution_count": 14,
   "metadata": {},
   "outputs": [],
   "source": [
    "def convolutional_model():\n",
    "  print(\"Defining convolutional model\")\n",
    "  t0 = time()\n",
    "  model = Sequential()\n",
    "  model.add(Conv2D(32, (3, 3),\n",
    "        padding='same',\n",
    "        input_shape=(32, 32, 3),\n",
    "        kernel_initializer='normal',\n",
    "        activation='relu'))\n",
    "  model.add(Conv2D(32, (3, 3), activation='relu',\n",
    "        kernel_initializer='normal'))\n",
    "  model.add(MaxPooling2D(pool_size=(2, 2)))\n",
    "  model.add(Flatten())\n",
    "  model.add(Dense(512, activation='relu'))\n",
    "  model.add(Dense(10, activation='softmax'))\n",
    "\n",
    "  print(\"{:0.3f} seconds.\".format(time() - t0))\n",
    "  print(\"Compiling the model...\")\n",
    "  t0 = time()\n",
    "  model.compile(loss='categorical_crossentropy',\n",
    "        optimizer='rmsprop',\n",
    "        metrics=['accuracy'])\n",
    "  print(\"{:0.3f} seconds.\".format(time() - t0))\n",
    "  return model"
   ]
  },
  {
   "cell_type": "code",
   "execution_count": 15,
   "metadata": {
    "tags": []
   },
   "outputs": [
    {
     "output_type": "stream",
     "name": "stdout",
     "text": "Defining convolutional model\nWARNING:tensorflow:From C:\\Users\\indy\\anaconda3\\envs\\ztdlbook_gpu\\lib\\site-packages\\tensorflow\\python\\ops\\resource_variable_ops.py:1666: calling BaseResourceVariable.__init__ (from tensorflow.python.ops.resource_variable_ops) with constraint is deprecated and will be removed in a future version.\nInstructions for updating:\nIf using Keras pass *_constraint arguments to layers.\n0.139 seconds.\nCompiling the model...\n0.060 seconds.\n"
    }
   ],
   "source": [
    "with tf.device('gpu:0'):\n",
    "  model = convolutional_model()"
   ]
  },
  {
   "cell_type": "code",
   "execution_count": 16,
   "metadata": {
    "tags": []
   },
   "outputs": [
    {
     "output_type": "stream",
     "name": "stdout",
     "text": "Model: \"sequential\"\n_________________________________________________________________\nLayer (type)                 Output Shape              Param #   \n=================================================================\nconv2d (Conv2D)              (None, 32, 32, 32)        896       \n_________________________________________________________________\nconv2d_1 (Conv2D)            (None, 30, 30, 32)        9248      \n_________________________________________________________________\nmax_pooling2d (MaxPooling2D) (None, 15, 15, 32)        0         \n_________________________________________________________________\nflatten (Flatten)            (None, 7200)              0         \n_________________________________________________________________\ndense (Dense)                (None, 512)               3686912   \n_________________________________________________________________\ndense_1 (Dense)              (None, 10)                5130      \n=================================================================\nTotal params: 3,702,186\nTrainable params: 3,702,186\nNon-trainable params: 0\n_________________________________________________________________\n"
    }
   ],
   "source": [
    "model.summary()"
   ]
  },
  {
   "cell_type": "code",
   "execution_count": 17,
   "metadata": {
    "tags": []
   },
   "outputs": [
    {
     "output_type": "stream",
     "name": "stdout",
     "text": "Training convolutional GPU model...\nTrain on 50000 samples\nEpoch 1/2\n50000/50000 [==============================] - 15s 304us/sample - loss: 2.0217 - accuracy: 0.2849\nEpoch 2/2\n50000/50000 [==============================] - 14s 277us/sample - loss: 1.6450 - accuracy: 0.4278\n34.776 seconds.\n"
    }
   ],
   "source": [
    "print(\"Training convolutional GPU model...\")\n",
    "t0 = time()\n",
    "model.fit(X_conv, y_conv,\n",
    "                batch_size=1024,\n",
    "                epochs=2,\n",
    "                shuffle=True)\n",
    "print(\"{:0.3f} seconds.\".format(time() - t0))"
   ]
  },
  {
   "cell_type": "code",
   "execution_count": null,
   "metadata": {},
   "outputs": [],
   "source": []
  }
 ]
}